{
 "cells": [
  {
   "cell_type": "code",
   "execution_count": 1,
   "id": "67099d5c",
   "metadata": {},
   "outputs": [],
   "source": [
    "#recharge = 0.4 , call : 0.2 , data : 0.2 , zero_balance : 0.1 , account_balance : 0.1 ( total - each should be scaled between zero and one )"
   ]
  },
  {
   "cell_type": "code",
   "execution_count": 2,
   "id": "8f1ef96a",
   "metadata": {},
   "outputs": [],
   "source": [
    "import random "
   ]
  },
  {
   "cell_type": "code",
   "execution_count": 4,
   "id": "a7850e34",
   "metadata": {},
   "outputs": [],
   "source": [
    "def linear_model1(recharge_count_day, recharge_count_week, recharge_count_month, recharge_count_year,\n",
    "                 recharge_amount_day, recharge_amount_week, recharge_amount_month, recharge_amount_year,\n",
    "                 call_count_day, call_count_week, call_count_month, call_count_year,\n",
    "                 call_amount_day, call_amount_week, call_amount_month, call_amount_year,\n",
    "                 data_count_day, data_count_week, data_count_month, data_count_year,\n",
    "                 data_amount_day, data_amount_week, data_amount_month, data_amount_year,\n",
    "                 zero_balance_day, zero_balance_week, zero_balance_month, zero_balance_year,\n",
    "                 account_balance_day, account_balance_week, account_balance_month, account_balance_year):\n",
    "    # Coefficients (weights) for each feature and sub-feature\n",
    "    b0 = 0  # Intercept\n",
    "\n",
    "    # Weights for recharge features - sum all = 0.4\n",
    "    b1, b2, b3, b4 = 0.001, 0.017, 0.033, 0.049          #0.1, #linearly spread in a way that sum up to 0.4\n",
    "    b5, b6, b7, b8 = 0.03, 0.06, 0.09, 0.12              #0.3\n",
    "\n",
    "    # Weights for call features - sum all = 0.2\n",
    "    b9, b10, b11, b12 = 0.005, 0.01, 0.015, 0.02         # 0.05\n",
    "    b13, b14, b15, b16 = 0.01, 0.03, 0.05, 0.06          #0.15\n",
    "\n",
    "    # Weights for data features - sum all = 0.2 \n",
    "    b17, b18, b19, b20 = 0.005, 0.01, 0.015, 0.02         #0.05\n",
    "    b21, b22, b23, b24 = 0.01, 0.03, 0.05, 0.06           #0.15\n",
    "\n",
    "    # Weights for zero balance features - sum all = 0.1\n",
    "    b25, b26, b27, b28 = 0.01, 0.017, 0.032, 0.049\n",
    "\n",
    "    # Weights for account balance features - sum all = 0.1\n",
    "    b29, b30, b31, b32 = 0.01, 0.017, 0.032, 0.049\n",
    "\n",
    "    # Calculate the prediction (output)\n",
    "    prediction = b0 + b1 * recharge_count_day + b2 * recharge_count_week + b3 * recharge_count_month + b4 * recharge_count_year \\\n",
    "                 + b5 * recharge_amount_day + b6 * recharge_amount_week + b7 * recharge_amount_month + b8 * recharge_amount_year \\\n",
    "                 + b9 * call_count_day + b10 * call_count_week + b11 * call_count_month + b12 * call_count_year \\\n",
    "                 + b13 * call_amount_day + b14 * call_amount_week + b15 * call_amount_month + b16 * call_amount_year \\\n",
    "                 + b17 * data_count_day + b18 * data_count_week + b19 * data_count_month + b20 * data_count_year \\\n",
    "                 + b21 * data_amount_day + b22 * data_amount_week + b23 * data_amount_month + b24 * data_amount_year \\\n",
    "                 + b25 * zero_balance_day + b26 * zero_balance_week + b27 * zero_balance_month + b28 * zero_balance_year \\\n",
    "                 + b29 * account_balance_day + b30 * account_balance_week + b31 * account_balance_month + b32 * account_balance_year\n",
    "\n",
    "    return prediction\n"
   ]
  },
  {
   "cell_type": "code",
   "execution_count": 21,
   "id": "28c56d6c",
   "metadata": {},
   "outputs": [],
   "source": [
    "x = [random.random() for _ in range(32)] "
   ]
  },
  {
   "cell_type": "code",
   "execution_count": 22,
   "id": "49ea5694",
   "metadata": {
    "scrolled": true
   },
   "outputs": [
    {
     "name": "stdout",
     "output_type": "stream",
     "text": [
      "Prediction: 0.514437521500073\n"
     ]
    }
   ],
   "source": [
    "prediction = linear_model1( *x)\n",
    "print(\"Prediction:\", prediction)"
   ]
  },
  {
   "cell_type": "code",
   "execution_count": 9,
   "id": "d4097e1d",
   "metadata": {},
   "outputs": [
    {
     "name": "stdout",
     "output_type": "stream",
     "text": [
      "Sum of the weights: 1.0160000000000005\n"
     ]
    }
   ],
   "source": [
    "#weights for recahrge\n",
    "\n",
    "recharge_count_day_weight = 0.001\n",
    "recharge_count_week_weight = 0.017        \n",
    "recharge_count_month_weight = 0.033\n",
    "recharge_count_year_weight = 0.049\n",
    "\n",
    "recharge_amount_day_weight = 0.03\n",
    "recharge_amount_week_weight = 0.06\n",
    "recharge_amount_month_weight = 0.09\n",
    "recharge_amount_year_weight = 0.12\n",
    "\n",
    "# Weights for call features\n",
    "\n",
    "call_count_day_weight = 0.005\n",
    "call_count_week_weight = 0.01\n",
    "call_count_month_weight = 0.015\n",
    "call_count_year_weight = 0.02\n",
    "\n",
    "call_amount_day_weight = 0.01\n",
    "call_amount_week_weight = 0.03\n",
    "call_amount_month_weight = 0.05\n",
    "call_amount_year_weight = 0.06\n",
    "\n",
    "# Weights for data features\n",
    "data_count_day_weight = 0.005\n",
    "data_count_week_weight = 0.01\n",
    "data_count_month_weight = 0.015\n",
    "data_count_year_weight = 0.02\n",
    "\n",
    "data_amount_day_weight = 0.01\n",
    "data_amount_week_weight = 0.03\n",
    "data_amount_month_weight = 0.05\n",
    "data_amount_year_weight = 0.06\n",
    "\n",
    "# Weights for zero balance features\n",
    "zero_balance_day_weight = 0.01\n",
    "zero_balance_week_weight = 0.017\n",
    "zero_balance_month_weight = 0.032\n",
    "zero_balance_year_weight = 0.049\n",
    "\n",
    "# Weights for account balance features\n",
    "account_balance_day_weight = 0.01\n",
    "account_balance_week_weight = 0.017\n",
    "account_balance_month_weight = 0.032\n",
    "account_balance_year_weight = 0.049\n",
    "\n",
    "# Calculate the sum of the weights\n",
    "sum_weights = (recharge_count_day_weight + recharge_count_week_weight + recharge_count_month_weight + recharge_count_year_weight +\n",
    "    recharge_amount_day_weight + recharge_amount_week_weight + recharge_amount_month_weight + recharge_amount_year_weight +\n",
    "    call_count_day_weight + call_count_week_weight + call_count_month_weight + call_count_year_weight +\n",
    "    call_amount_day_weight + call_amount_week_weight + call_amount_month_weight + call_amount_year_weight +\n",
    "    data_count_day_weight + data_count_week_weight + data_count_month_weight + data_count_year_weight +\n",
    "    data_amount_day_weight + data_amount_week_weight + data_amount_month_weight + data_amount_year_weight +\n",
    "    zero_balance_day_weight + zero_balance_week_weight + zero_balance_month_weight + zero_balance_year_weight +\n",
    "    account_balance_day_weight + account_balance_week_weight + account_balance_month_weight + account_balance_year_weight\n",
    ")\n",
    "\n",
    "print(\"Sum of the weights:\", sum_weights)\n"
   ]
  }
 ],
 "metadata": {
  "kernelspec": {
   "display_name": "Python 3 (ipykernel)",
   "language": "python",
   "name": "python3"
  },
  "language_info": {
   "codemirror_mode": {
    "name": "ipython",
    "version": 3
   },
   "file_extension": ".py",
   "mimetype": "text/x-python",
   "name": "python",
   "nbconvert_exporter": "python",
   "pygments_lexer": "ipython3",
   "version": "3.10.9"
  }
 },
 "nbformat": 4,
 "nbformat_minor": 5
}
